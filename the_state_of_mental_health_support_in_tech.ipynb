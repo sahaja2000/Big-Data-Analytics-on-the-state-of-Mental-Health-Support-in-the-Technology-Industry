{
  "cells": [
    {
      "cell_type": "markdown",
      "id": "4b48c4ff",
      "metadata": {
        "papermill": {
          "duration": 0.014037,
          "end_time": "2021-07-22T22:03:18.084688",
          "exception": false,
          "start_time": "2021-07-22T22:03:18.070651",
          "status": "completed"
        },
        "tags": [],
        "id": "4b48c4ff"
      },
      "source": [
        "# Analysis"
      ]
    },
    {
      "cell_type": "markdown",
      "id": "81fe530a",
      "metadata": {
        "papermill": {
          "duration": 0.014103,
          "end_time": "2021-07-22T22:03:18.113331",
          "exception": false,
          "start_time": "2021-07-22T22:03:18.099228",
          "status": "completed"
        },
        "tags": [],
        "id": "81fe530a"
      },
      "source": [
        "### Mental health benefits coverage\n",
        "Does your employer provide mental health benefits as part of healthcare coverage?"
      ]
    },
    {
      "cell_type": "code",
      "execution_count": null,
      "id": "3d5f86ba",
      "metadata": {
        "execution": {
          "iopub.execute_input": "2021-07-22T22:03:18.146666Z",
          "iopub.status.busy": "2021-07-22T22:03:18.145527Z",
          "iopub.status.idle": "2021-07-22T22:03:18.188233Z",
          "shell.execute_reply": "2021-07-22T22:03:18.187498Z",
          "shell.execute_reply.started": "2021-07-22T04:55:42.065056Z"
        },
        "papermill": {
          "duration": 0.060566,
          "end_time": "2021-07-22T22:03:18.188414",
          "exception": false,
          "start_time": "2021-07-22T22:03:18.127848",
          "status": "completed"
        },
        "tags": [],
        "colab": {
          "base_uri": "https://localhost:8080/",
          "height": 270
        },
        "id": "3d5f86ba",
        "outputId": "ac4380da-4880-41a3-ce4e-c0277b44db80"
      },
      "outputs": [
        {
          "output_type": "execute_result",
          "data": {
            "text/plain": [
              "   year self_employed number_of_employees tech_company mental_health_benefits  \\\n",
              "0  2014            No             100-500          Yes                    Yes   \n",
              "1  2014            No              26-100          Yes                    Yes   \n",
              "2  2014            No      More than 1000           No             Don't know   \n",
              "3  2014            No              26-100          Yes                    Yes   \n",
              "4  2014            No      More than 1000           No                    Yes   \n",
              "\n",
              "  mental_health_benefits_awareness employer_mental_health_discussion  \\\n",
              "0                              Yes                                No   \n",
              "1                              Yes                                No   \n",
              "2                               No                                No   \n",
              "3                         Not sure                        Don't know   \n",
              "4                              Yes                                No   \n",
              "\n",
              "  employer_mental_health_learning_resources mental_health_treatment_anonymity  \\\n",
              "0                                        No                                No   \n",
              "1                                        No                        Don't know   \n",
              "2                                Don't know                        Don't know   \n",
              "3                                       Yes                               Yes   \n",
              "4                                Don't know                                No   \n",
              "\n",
              "  mental_health_leave_accessibility  \\\n",
              "0                Somewhat difficult   \n",
              "1                        Don't know   \n",
              "2                        Don't know   \n",
              "3                        Don't know   \n",
              "4                         Very easy   \n",
              "\n",
              "  mental_health_discussion_comfort_coworkers  \\\n",
              "0                               Some of them   \n",
              "1                               Some of them   \n",
              "2                                         No   \n",
              "3                                        Yes   \n",
              "4                               Some of them   \n",
              "\n",
              "  mental_health_discussion_comfort_supervisor  \n",
              "0                                Some of them  \n",
              "1                                         Yes  \n",
              "2                                          No  \n",
              "3                                         Yes  \n",
              "4                                         Yes  "
            ],
            "text/html": [
              "\n",
              "  <div id=\"df-2bb7aa52-71d5-42a7-821c-386aa3570d7d\">\n",
              "    <div class=\"colab-df-container\">\n",
              "      <div>\n",
              "<style scoped>\n",
              "    .dataframe tbody tr th:only-of-type {\n",
              "        vertical-align: middle;\n",
              "    }\n",
              "\n",
              "    .dataframe tbody tr th {\n",
              "        vertical-align: top;\n",
              "    }\n",
              "\n",
              "    .dataframe thead th {\n",
              "        text-align: right;\n",
              "    }\n",
              "</style>\n",
              "<table border=\"1\" class=\"dataframe\">\n",
              "  <thead>\n",
              "    <tr style=\"text-align: right;\">\n",
              "      <th></th>\n",
              "      <th>year</th>\n",
              "      <th>self_employed</th>\n",
              "      <th>number_of_employees</th>\n",
              "      <th>tech_company</th>\n",
              "      <th>mental_health_benefits</th>\n",
              "      <th>mental_health_benefits_awareness</th>\n",
              "      <th>employer_mental_health_discussion</th>\n",
              "      <th>employer_mental_health_learning_resources</th>\n",
              "      <th>mental_health_treatment_anonymity</th>\n",
              "      <th>mental_health_leave_accessibility</th>\n",
              "      <th>mental_health_discussion_comfort_coworkers</th>\n",
              "      <th>mental_health_discussion_comfort_supervisor</th>\n",
              "    </tr>\n",
              "  </thead>\n",
              "  <tbody>\n",
              "    <tr>\n",
              "      <th>0</th>\n",
              "      <td>2014</td>\n",
              "      <td>No</td>\n",
              "      <td>100-500</td>\n",
              "      <td>Yes</td>\n",
              "      <td>Yes</td>\n",
              "      <td>Yes</td>\n",
              "      <td>No</td>\n",
              "      <td>No</td>\n",
              "      <td>No</td>\n",
              "      <td>Somewhat difficult</td>\n",
              "      <td>Some of them</td>\n",
              "      <td>Some of them</td>\n",
              "    </tr>\n",
              "    <tr>\n",
              "      <th>1</th>\n",
              "      <td>2014</td>\n",
              "      <td>No</td>\n",
              "      <td>26-100</td>\n",
              "      <td>Yes</td>\n",
              "      <td>Yes</td>\n",
              "      <td>Yes</td>\n",
              "      <td>No</td>\n",
              "      <td>No</td>\n",
              "      <td>Don't know</td>\n",
              "      <td>Don't know</td>\n",
              "      <td>Some of them</td>\n",
              "      <td>Yes</td>\n",
              "    </tr>\n",
              "    <tr>\n",
              "      <th>2</th>\n",
              "      <td>2014</td>\n",
              "      <td>No</td>\n",
              "      <td>More than 1000</td>\n",
              "      <td>No</td>\n",
              "      <td>Don't know</td>\n",
              "      <td>No</td>\n",
              "      <td>No</td>\n",
              "      <td>Don't know</td>\n",
              "      <td>Don't know</td>\n",
              "      <td>Don't know</td>\n",
              "      <td>No</td>\n",
              "      <td>No</td>\n",
              "    </tr>\n",
              "    <tr>\n",
              "      <th>3</th>\n",
              "      <td>2014</td>\n",
              "      <td>No</td>\n",
              "      <td>26-100</td>\n",
              "      <td>Yes</td>\n",
              "      <td>Yes</td>\n",
              "      <td>Not sure</td>\n",
              "      <td>Don't know</td>\n",
              "      <td>Yes</td>\n",
              "      <td>Yes</td>\n",
              "      <td>Don't know</td>\n",
              "      <td>Yes</td>\n",
              "      <td>Yes</td>\n",
              "    </tr>\n",
              "    <tr>\n",
              "      <th>4</th>\n",
              "      <td>2014</td>\n",
              "      <td>No</td>\n",
              "      <td>More than 1000</td>\n",
              "      <td>No</td>\n",
              "      <td>Yes</td>\n",
              "      <td>Yes</td>\n",
              "      <td>No</td>\n",
              "      <td>Don't know</td>\n",
              "      <td>No</td>\n",
              "      <td>Very easy</td>\n",
              "      <td>Some of them</td>\n",
              "      <td>Yes</td>\n",
              "    </tr>\n",
              "  </tbody>\n",
              "</table>\n",
              "</div>\n",
              "      <button class=\"colab-df-convert\" onclick=\"convertToInteractive('df-2bb7aa52-71d5-42a7-821c-386aa3570d7d')\"\n",
              "              title=\"Convert this dataframe to an interactive table.\"\n",
              "              style=\"display:none;\">\n",
              "        \n",
              "  <svg xmlns=\"http://www.w3.org/2000/svg\" height=\"24px\"viewBox=\"0 0 24 24\"\n",
              "       width=\"24px\">\n",
              "    <path d=\"M0 0h24v24H0V0z\" fill=\"none\"/>\n",
              "    <path d=\"M18.56 5.44l.94 2.06.94-2.06 2.06-.94-2.06-.94-.94-2.06-.94 2.06-2.06.94zm-11 1L8.5 8.5l.94-2.06 2.06-.94-2.06-.94L8.5 2.5l-.94 2.06-2.06.94zm10 10l.94 2.06.94-2.06 2.06-.94-2.06-.94-.94-2.06-.94 2.06-2.06.94z\"/><path d=\"M17.41 7.96l-1.37-1.37c-.4-.4-.92-.59-1.43-.59-.52 0-1.04.2-1.43.59L10.3 9.45l-7.72 7.72c-.78.78-.78 2.05 0 2.83L4 21.41c.39.39.9.59 1.41.59.51 0 1.02-.2 1.41-.59l7.78-7.78 2.81-2.81c.8-.78.8-2.07 0-2.86zM5.41 20L4 18.59l7.72-7.72 1.47 1.35L5.41 20z\"/>\n",
              "  </svg>\n",
              "      </button>\n",
              "      \n",
              "  <style>\n",
              "    .colab-df-container {\n",
              "      display:flex;\n",
              "      flex-wrap:wrap;\n",
              "      gap: 12px;\n",
              "    }\n",
              "\n",
              "    .colab-df-convert {\n",
              "      background-color: #E8F0FE;\n",
              "      border: none;\n",
              "      border-radius: 50%;\n",
              "      cursor: pointer;\n",
              "      display: none;\n",
              "      fill: #1967D2;\n",
              "      height: 32px;\n",
              "      padding: 0 0 0 0;\n",
              "      width: 32px;\n",
              "    }\n",
              "\n",
              "    .colab-df-convert:hover {\n",
              "      background-color: #E2EBFA;\n",
              "      box-shadow: 0px 1px 2px rgba(60, 64, 67, 0.3), 0px 1px 3px 1px rgba(60, 64, 67, 0.15);\n",
              "      fill: #174EA6;\n",
              "    }\n",
              "\n",
              "    [theme=dark] .colab-df-convert {\n",
              "      background-color: #3B4455;\n",
              "      fill: #D2E3FC;\n",
              "    }\n",
              "\n",
              "    [theme=dark] .colab-df-convert:hover {\n",
              "      background-color: #434B5C;\n",
              "      box-shadow: 0px 1px 3px 1px rgba(0, 0, 0, 0.15);\n",
              "      filter: drop-shadow(0px 1px 2px rgba(0, 0, 0, 0.3));\n",
              "      fill: #FFFFFF;\n",
              "    }\n",
              "  </style>\n",
              "\n",
              "      <script>\n",
              "        const buttonEl =\n",
              "          document.querySelector('#df-2bb7aa52-71d5-42a7-821c-386aa3570d7d button.colab-df-convert');\n",
              "        buttonEl.style.display =\n",
              "          google.colab.kernel.accessAllowed ? 'block' : 'none';\n",
              "\n",
              "        async function convertToInteractive(key) {\n",
              "          const element = document.querySelector('#df-2bb7aa52-71d5-42a7-821c-386aa3570d7d');\n",
              "          const dataTable =\n",
              "            await google.colab.kernel.invokeFunction('convertToInteractive',\n",
              "                                                     [key], {});\n",
              "          if (!dataTable) return;\n",
              "\n",
              "          const docLinkHtml = 'Like what you see? Visit the ' +\n",
              "            '<a target=\"_blank\" href=https://colab.research.google.com/notebooks/data_table.ipynb>data table notebook</a>'\n",
              "            + ' to learn more about interactive tables.';\n",
              "          element.innerHTML = '';\n",
              "          dataTable['output_type'] = 'display_data';\n",
              "          await google.colab.output.renderOutput(dataTable, element);\n",
              "          const docLink = document.createElement('div');\n",
              "          docLink.innerHTML = docLinkHtml;\n",
              "          element.appendChild(docLink);\n",
              "        }\n",
              "      </script>\n",
              "    </div>\n",
              "  </div>\n",
              "  "
            ]
          },
          "metadata": {},
          "execution_count": 2
        }
      ],
      "source": [
        "import numpy as np \n",
        "import pandas as pd\n",
        "import matplotlib.pyplot as plt\n",
        "        \n",
        "file = pd.read_csv('Mental Health.csv')\n",
        "file.head()"
      ]
    },
    {
      "cell_type": "code",
      "execution_count": null,
      "id": "aa9aedf8",
      "metadata": {
        "execution": {
          "iopub.execute_input": "2021-07-22T22:03:18.331756Z",
          "iopub.status.busy": "2021-07-22T22:03:18.326713Z",
          "iopub.status.idle": "2021-07-22T22:03:18.581891Z",
          "shell.execute_reply": "2021-07-22T22:03:18.582391Z",
          "shell.execute_reply.started": "2021-07-22T05:02:31.831361Z"
        },
        "papermill": {
          "duration": 0.379327,
          "end_time": "2021-07-22T22:03:18.582554",
          "exception": false,
          "start_time": "2021-07-22T22:03:18.203227",
          "status": "completed"
        },
        "tags": [],
        "colab": {
          "base_uri": "https://localhost:8080/",
          "height": 337
        },
        "id": "aa9aedf8",
        "outputId": "115036a6-256e-43ea-f5dd-53c087a0a01a"
      },
      "outputs": [
        {
          "output_type": "display_data",
          "data": {
            "text/plain": [
              "<Figure size 432x288 with 1 Axes>"
            ],
            "image/png": "[encoded data removed]"
          },
          "metadata": {}
        },
        {
          "output_type": "stream",
          "name": "stdout",
          "text": [
            "2014 vs 2019 benefit access: 13% increase \n",
            "Annual change to employees that have coverage: 2.6% average\n",
            "Employees that don't know their coverage: 28% average\n"
          ]
        }
      ],
      "source": [
        "data_mental_health_benefits = file.groupby('year')['mental_health_benefits'].value_counts(normalize=True).unstack()[['Yes', \"Don't know\", 'No']]\n",
        "calc_mean_mental_health_benefits_dont_know = round( data_mental_health_benefits[\"Don't know\"].mean() * 100)\n",
        "calc_difference_mental_health_benefit_coverage_2019_2014 = round((data_mental_health_benefits.iloc[-1]['Yes'] - data_mental_health_benefits.iloc[0]['Yes']) * 100)\n",
        "calc_average_annual_change = calc_difference_mental_health_benefit_coverage_2019_2014 / 5\n",
        "\n",
        "plt.style.use('ggplot')\n",
        "data_mental_health_benefits.plot(marker='o')\n",
        "plt.title('Mental health benefits coverage')\n",
        "plt.ylabel(\"\")\n",
        "plt.xlabel(\"\")\n",
        "plt.legend(loc='upper right',bbox_to_anchor = (1.32, 1.0))\n",
        "plt.show()\n",
        "\n",
        "print(\"2014 vs 2019 benefit access: {}% increase \".format(calc_difference_mental_health_benefit_coverage_2019_2014))\n",
        "print(\"Annual change to employees that have coverage: {}% average\".format(calc_average_annual_change))\n",
        "print(\"Employees that don't know their coverage: {}% average\".format(calc_mean_mental_health_benefits_dont_know))"
      ]
    },
    {
      "cell_type": "markdown",
      "id": "6e8b2000",
      "metadata": {
        "papermill": {
          "duration": 0.015406,
          "end_time": "2021-07-22T22:03:18.614066",
          "exception": false,
          "start_time": "2021-07-22T22:03:18.598660",
          "status": "completed"
        },
        "tags": [],
        "id": "6e8b2000"
      },
      "source": [
        "**Over 5 years there was a 13% increase in access to mental health benefit coverage (up from 41% in 2014). However, an average of 28% of tech employees don't know if they have any mental health benefit coverage.**\n",
        "\n",
        "***If a large portion of employees remain unaware about their coverage, any progress that is made in employers providing additional support will not be fully utilized.***"
      ]
    },
    {
      "cell_type": "markdown",
      "id": "16df8116",
      "metadata": {
        "papermill": {
          "duration": 0.015741,
          "end_time": "2021-07-22T22:03:18.645801",
          "exception": false,
          "start_time": "2021-07-22T22:03:18.630060",
          "status": "completed"
        },
        "tags": [],
        "id": "16df8116"
      },
      "source": [
        "### Mental health benefits awareness\n",
        "Do you know the options for mental health care available under your employer-provided coverage?"
      ]
    },
    {
      "cell_type": "code",
      "execution_count": null,
      "id": "112226ee",
      "metadata": {
        "execution": {
          "iopub.execute_input": "2021-07-22T22:03:18.687689Z",
          "iopub.status.busy": "2021-07-22T22:03:18.686619Z",
          "iopub.status.idle": "2021-07-22T22:03:18.892961Z",
          "shell.execute_reply": "2021-07-22T22:03:18.891977Z",
          "shell.execute_reply.started": "2021-07-22T04:55:42.303281Z"
        },
        "papermill": {
          "duration": 0.231424,
          "end_time": "2021-07-22T22:03:18.893228",
          "exception": false,
          "start_time": "2021-07-22T22:03:18.661804",
          "status": "completed"
        },
        "tags": [],
        "colab": {
          "base_uri": "https://localhost:8080/",
          "height": 335
        },
        "id": "112226ee",
        "outputId": "0eef4ef1-0577-4cf3-fc00-42f0fe2ec5e2"
      },
      "outputs": [
        {
          "output_type": "display_data",
          "data": {
            "text/plain": [
              "<Figure size 432x288 with 1 Axes>"
            ],
            "image/png": "[encoded data removed]"
          },
          "metadata": {}
        },
        {
          "output_type": "stream",
          "name": "stdout",
          "text": [
            "Employees unaware of benefits or options in their coverage: 53%\n",
            "2014 vs 2019 employees not aware: 13% increase\n"
          ]
        }
      ],
      "source": [
        "data_mental_health_benefits_awareness = file.groupby('year')['mental_health_benefits_awareness'].value_counts(normalize=True).unstack()[['Yes','No']]\n",
        "calc_difference_mental_health_benefits_2019_2014 = round((data_mental_health_benefits_awareness.iloc[-1]['No'] - data_mental_health_benefits_awareness.iloc[0]['No']) * 100)\n",
        "calc_mental_health_benefits_awareness_2019_no = round(data_mental_health_benefits_awareness.iloc[-1]['No'] * 100)\n",
        "\n",
        "data_mental_health_benefits_awareness.plot(marker='o')\n",
        "plt.style.use('ggplot')\n",
        "plt.legend(loc='upper right',bbox_to_anchor = (1.2, 1.0))\n",
        "plt.title(\"Awareness of options available in mental health coverage\")\n",
        "plt.show()\n",
        "\n",
        "print(\"Employees unaware of benefits or options in their coverage: {}%\".format(calc_mental_health_benefits_awareness_2019_no))\n",
        "print(\"2014 vs 2019 employees not aware: {}% increase\".format(calc_difference_mental_health_benefits_2019_2014))\n",
        "\n",
        "#data chart\n",
        "#print(data_mental_health_benefits_awareness)"
      ]
    },
    {
      "cell_type": "markdown",
      "id": "aabdc842",
      "metadata": {
        "papermill": {
          "duration": 0.017135,
          "end_time": "2021-07-22T22:03:18.929795",
          "exception": false,
          "start_time": "2021-07-22T22:03:18.912660",
          "status": "completed"
        },
        "tags": [],
        "id": "aabdc842"
      },
      "source": [
        "**In 2019, 53% of employees were unaware of the details or options of their mental health benefits coverage, which is a 13% increase from 2014.**\n",
        "\n",
        "***Even if an employee has coverage, they are unlikely to get the support they need if they don't know what options or programs are available.***"
      ]
    },
    {
      "cell_type": "markdown",
      "id": "35ba5634",
      "metadata": {
        "papermill": {
          "duration": 0.0174,
          "end_time": "2021-07-22T22:03:18.964634",
          "exception": false,
          "start_time": "2021-07-22T22:03:18.947234",
          "status": "completed"
        },
        "tags": [],
        "id": "35ba5634"
      },
      "source": [
        "### Employer mental health discussion\n",
        "Has your employer ever formally discussed mental health (for example, as part of a wellness campaign or other official communication)?"
      ]
    },
    {
      "cell_type": "code",
      "execution_count": null,
      "id": "4e9ce9a1",
      "metadata": {
        "execution": {
          "iopub.execute_input": "2021-07-22T22:03:19.009286Z",
          "iopub.status.busy": "2021-07-22T22:03:19.008506Z",
          "iopub.status.idle": "2021-07-22T22:03:19.188087Z",
          "shell.execute_reply": "2021-07-22T22:03:19.187420Z",
          "shell.execute_reply.started": "2021-07-22T04:55:42.499105Z"
        },
        "papermill": {
          "duration": 0.205874,
          "end_time": "2021-07-22T22:03:19.188224",
          "exception": false,
          "start_time": "2021-07-22T22:03:18.982350",
          "status": "completed"
        },
        "tags": [],
        "colab": {
          "base_uri": "https://localhost:8080/",
          "height": 318
        },
        "id": "4e9ce9a1",
        "outputId": "bd10fa38-72ce-467f-e06f-f7d9551608e4"
      },
      "outputs": [
        {
          "output_type": "display_data",
          "data": {
            "text/plain": [
              "<Figure size 432x288 with 1 Axes>"
            ],
            "image/png": "[encoded data removed]"
          },
          "metadata": {}
        },
        {
          "output_type": "stream",
          "name": "stdout",
          "text": [
            "Employers that do not formally discuss mental health in 2019: 58%\n",
            "Average change in employer driven discussion: 3% increase each year.\n"
          ]
        }
      ],
      "source": [
        "data_mental_health_discussion = file.groupby('year')['employer_mental_health_discussion'].value_counts(normalize=True).unstack()[['Yes', 'No']]\n",
        "calc_average_annual_improvement_employer_mental_health_discussion = round(((data_mental_health_discussion.iloc[-1]['Yes'] - data_mental_health_discussion.iloc[0]['Yes']) * 100)/5)\n",
        "calc_employer_mental_health_discussion_2019_no = round(data_mental_health_discussion.iloc[-1]['No'] * 100)\n",
        "\n",
        "data_mental_health_discussion.plot(kind='barh').invert_yaxis()\n",
        "plt.legend(loc='upper right',bbox_to_anchor = (1.2, 1.0))\n",
        "plt.title(\"Employer mental health discussion\")\n",
        "plt.ylabel(\"\")\n",
        "plt.style.use('ggplot')\n",
        "plt.show()\n",
        "\n",
        "print(\"Employers that do not formally discuss mental health in 2019: {}%\".format(calc_employer_mental_health_discussion_2019_no))\n",
        "print(\"Average change in employer driven discussion: {}% increase each year.\".format(calc_average_annual_improvement_employer_mental_health_discussion))\n",
        "\n",
        "# data chart\n",
        "# print(data_mental_health_discussion)"
      ]
    },
    {
      "cell_type": "markdown",
      "id": "14802391",
      "metadata": {
        "papermill": {
          "duration": 0.022802,
          "end_time": "2021-07-22T22:03:19.229596",
          "exception": false,
          "start_time": "2021-07-22T22:03:19.206794",
          "status": "completed"
        },
        "tags": [],
        "id": "14802391"
      },
      "source": [
        "**As of 2019, 58% of employers do not have any formal discussions regarding mental health benefits or support. Over the course of 5 years, employers discussing mental health wellness or support has increased by an average of 3% each year.**\n",
        "\n",
        "***If the employers are willing to take additional initiative in initiating and following up on these conversations, awareness of available benefits and supports among employees can improve. This is an essential and crucial step as mental health can negatively affect employees in unexpected ways. Constant support, and mitigation can come in the form of provding avenues for conversation, and learning resources.***"
      ]
    },
    {
      "cell_type": "markdown",
      "id": "4ba75971",
      "metadata": {
        "papermill": {
          "duration": 0.028942,
          "end_time": "2021-07-22T22:03:19.286202",
          "exception": false,
          "start_time": "2021-07-22T22:03:19.257260",
          "status": "completed"
        },
        "tags": [],
        "id": "4ba75971"
      },
      "source": [
        "### Employer mental health learning resources\n",
        "Does your employer offer resources to learn more about mental health concerns and options for seeking help?"
      ]
    },
    {
      "cell_type": "code",
      "execution_count": null,
      "id": "ec1690c7",
      "metadata": {
        "execution": {
          "iopub.execute_input": "2021-07-22T22:03:19.342493Z",
          "iopub.status.busy": "2021-07-22T22:03:19.341731Z",
          "iopub.status.idle": "2021-07-22T22:03:19.521216Z",
          "shell.execute_reply": "2021-07-22T22:03:19.522036Z",
          "shell.execute_reply.started": "2021-07-22T04:55:42.908304Z"
        },
        "papermill": {
          "duration": 0.207522,
          "end_time": "2021-07-22T22:03:19.522263",
          "exception": false,
          "start_time": "2021-07-22T22:03:19.314741",
          "status": "completed"
        },
        "tags": [],
        "colab": {
          "base_uri": "https://localhost:8080/",
          "height": 318
        },
        "id": "ec1690c7",
        "outputId": "d9802ba1-383a-4720-aaff-d1901ed8cadb"
      },
      "outputs": [
        {
          "output_type": "display_data",
          "data": {
            "text/plain": [
              "<Figure size 432x288 with 1 Axes>"
            ],
            "image/png": "[encoded data removed]"
          },
          "metadata": {}
        },
        {
          "output_type": "stream",
          "name": "stdout",
          "text": [
            "Employers that provide educational resources in 2019: 34%\n",
            "Average change in employers providing resources: 3% average increase per year\n"
          ]
        }
      ],
      "source": [
        "data_employer_mental_health_learning_resources = file.groupby('year')['employer_mental_health_learning_resources'].value_counts(normalize=True).unstack()\n",
        "data_employer_mental_health_learning_resources_filtered_yes = data_employer_mental_health_learning_resources[['Yes']]\n",
        "calc_difference_employer_mental_health_learning_resources_2019_2014 = int(round(((data_employer_mental_health_learning_resources_filtered_yes.iloc[-1] - data_employer_mental_health_learning_resources_filtered_yes.iloc[0]) * 100)/5))\n",
        "calc_employer_mental_health_learning_resources_2019_yes = int(round(data_employer_mental_health_learning_resources_filtered_yes.iloc[-1]*100))\n",
        "\n",
        "data_employer_mental_health_learning_resources_filtered_yes.plot(marker='o', legend= None)\n",
        "plt.style.use('ggplot')\n",
        "plt.ylim(0.2,1.0)\n",
        "plt.xlabel(\"\")\n",
        "plt.title('Employers that provide learning resources to help address mental health')\n",
        "plt.show()\n",
        "\n",
        "print(\"Employers that provide educational resources in 2019: {}%\".format(calc_employer_mental_health_learning_resources_2019_yes))\n",
        "print(\"Average change in employers providing resources: {}% average increase per year\".format(calc_difference_employer_mental_health_learning_resources_2019_2014))\n",
        "\n",
        "#data chart\n",
        "#print(data_employer_mental_health_learning_resources)"
      ]
    },
    {
      "cell_type": "markdown",
      "id": "2c9ec845",
      "metadata": {
        "papermill": {
          "duration": 0.019735,
          "end_time": "2021-07-22T22:03:19.563816",
          "exception": false,
          "start_time": "2021-07-22T22:03:19.544081",
          "status": "completed"
        },
        "tags": [],
        "id": "2c9ec845"
      },
      "source": [
        "***In 2019, 34% of employers provided educational resources to help employees gain a better understanding of the available opportunities to address or support their mental health through company benefits. Employers that provide educational resources have increased by an average of 3% each year.***"
      ]
    },
    {
      "cell_type": "markdown",
      "id": "c2138487",
      "metadata": {
        "papermill": {
          "duration": 0.019863,
          "end_time": "2021-07-22T22:03:19.603747",
          "exception": false,
          "start_time": "2021-07-22T22:03:19.583884",
          "status": "completed"
        },
        "tags": [],
        "id": "c2138487"
      },
      "source": [
        "### Mental health treatment anonymity\n",
        "Is your anonymity protected if you choose to take advantage of mental health or substance abuse treatment resources provided by your employer?"
      ]
    },
    {
      "cell_type": "code",
      "execution_count": null,
      "id": "5a6e18cd",
      "metadata": {
        "execution": {
          "iopub.execute_input": "2021-07-22T22:03:19.652022Z",
          "iopub.status.busy": "2021-07-22T22:03:19.651290Z",
          "iopub.status.idle": "2021-07-22T22:03:19.793628Z",
          "shell.execute_reply": "2021-07-22T22:03:19.794191Z",
          "shell.execute_reply.started": "2021-07-22T04:55:43.098709Z"
        },
        "papermill": {
          "duration": 0.170633,
          "end_time": "2021-07-22T22:03:19.794362",
          "exception": false,
          "start_time": "2021-07-22T22:03:19.623729",
          "status": "completed"
        },
        "tags": [],
        "colab": {
          "base_uri": "https://localhost:8080/",
          "height": 300
        },
        "id": "5a6e18cd",
        "outputId": "f2d003b6-3d89-4e3a-c109-d5f377bb6c1e"
      },
      "outputs": [
        {
          "output_type": "display_data",
          "data": {
            "text/plain": [
              "<Figure size 432x288 with 1 Axes>"
            ],
            "image/png": "[encoded data removed]"
          },
          "metadata": {}
        },
        {
          "output_type": "stream",
          "name": "stdout",
          "text": [
            "Employees that don't know if treatment will remain anonymous: 63% average\n"
          ]
        }
      ],
      "source": [
        "data_treatment_anonymity = file.groupby('year')['mental_health_treatment_anonymity'].value_counts(normalize=True).unstack()\n",
        "data_treatment_anonymity_filtered_dont_know = data_treatment_anonymity[\"Don't know\"]\n",
        "calc_mean_data_treatment_anonymity_filtered_dont_know = round(data_treatment_anonymity_filtered_dont_know.mean() * 100)\n",
        "\n",
        "data_treatment_anonymity_filtered_dont_know.plot(kind='bar',legend = None)\n",
        "plt.style.use('ggplot')\n",
        "plt.title(\"Employees uncertain if use of programs will be anonymous\")\n",
        "plt.ylabel(\"\")\n",
        "plt.xlabel(\"\")\n",
        "plt.xticks(rotation = 0)\n",
        "plt.ylim(0,1)\n",
        "plt.show()\n",
        "\n",
        "print(\"Employees that don't know if treatment will remain anonymous: {}% average\".format(calc_mean_data_treatment_anonymity_filtered_dont_know))\n",
        "\n",
        "#data chart\n",
        "#print(data_treatment_anonymity)"
      ]
    },
    {
      "cell_type": "markdown",
      "id": "6acfa21e",
      "metadata": {
        "papermill": {
          "duration": 0.020852,
          "end_time": "2021-07-22T22:03:19.836332",
          "exception": false,
          "start_time": "2021-07-22T22:03:19.815480",
          "status": "completed"
        },
        "tags": [],
        "id": "6acfa21e"
      },
      "source": [
        "***From 2014 to 2019 an average of 63% of employees don't know if their anonymity will be protected if they were to use mental health or substance abuse treatment programs provided by their employer.***\n",
        "\n",
        "***It appears that the majority of employees either don't trust or are unaware of the process involved with using benefits or programs for treating mental health or addiction. This could potentially be addressed by developing trust with employees right from the beginning during the on boarding process, and through developing consistent awareness of resources and opportunities to maintain or address mental health. It will be important to clearly walk employees through each step of the process so they can have a clear understanding of what to expect.***"
      ]
    },
    {
      "cell_type": "markdown",
      "id": "7a3ab6ce",
      "metadata": {
        "papermill": {
          "duration": 0.020554,
          "end_time": "2021-07-22T22:03:19.879812",
          "exception": false,
          "start_time": "2021-07-22T22:03:19.859258",
          "status": "completed"
        },
        "tags": [],
        "id": "7a3ab6ce"
      },
      "source": [
        "### Mental health discussion comfort with direct supervisor\n",
        "Would you feel comfortable discussing a mental health issue with your direct supervisor? "
      ]
    },
    {
      "cell_type": "code",
      "execution_count": null,
      "id": "4ee2daee",
      "metadata": {
        "execution": {
          "iopub.execute_input": "2021-07-22T22:03:19.930760Z",
          "iopub.status.busy": "2021-07-22T22:03:19.930054Z",
          "iopub.status.idle": "2021-07-22T22:03:20.082611Z",
          "shell.execute_reply": "2021-07-22T22:03:20.081344Z",
          "shell.execute_reply.started": "2021-07-22T04:55:43.265034Z"
        },
        "papermill": {
          "duration": 0.181953,
          "end_time": "2021-07-22T22:03:20.082797",
          "exception": false,
          "start_time": "2021-07-22T22:03:19.900844",
          "status": "completed"
        },
        "tags": [],
        "colab": {
          "base_uri": "https://localhost:8080/",
          "height": 318
        },
        "id": "4ee2daee",
        "outputId": "80c960a0-e39a-47d1-b0ed-fe04f1b57d7e"
      },
      "outputs": [
        {
          "output_type": "display_data",
          "data": {
            "text/plain": [
              "<Figure size 432x288 with 1 Axes>"
            ],
            "image/png": "[encoded data removed]"
          },
          "metadata": {}
        },
        {
          "output_type": "stream",
          "name": "stdout",
          "text": [
            "Employees comfortable discussing mental health with their supervisor: 38% average\n",
            "2014 vs 2019 comfort level: -1%\n"
          ]
        }
      ],
      "source": [
        "data_discussion_comfort_supervisor = file.groupby('year')['mental_health_discussion_comfort_supervisor'].value_counts(normalize=True).unstack()\n",
        "data_discussion_comfort_supervisor_filtered = data_discussion_comfort_supervisor[['Yes']]\n",
        "calc_mean_discussion_comfort_supervisor_yes = int(round(data_discussion_comfort_supervisor_filtered.mean() * 100))\n",
        "calc_difference_discussion_comfort_supervisor = int(round((data_discussion_comfort_supervisor_filtered.iloc[-1] - data_discussion_comfort_supervisor_filtered.iloc[0])*100))\n",
        "\n",
        "data_discussion_comfort_supervisor_filtered.plot(legend=None, marker='o')\n",
        "plt.style.use('ggplot')\n",
        "plt.title(\"Employee comfort with discussing mental health with supervisor\")\n",
        "plt.xlabel(\"\")\n",
        "plt.ylim(0,1)\n",
        "plt.show()\n",
        "\n",
        "print(\"Employees comfortable discussing mental health with their supervisor: {}% average\".format(calc_mean_discussion_comfort_supervisor_yes))\n",
        "print(\"2014 vs 2019 comfort level: {}%\".format(calc_difference_discussion_comfort_supervisor))\n",
        "\n",
        "#data chart\n",
        "#print(data_discussion_comfort_supervisor)"
      ]
    },
    {
      "cell_type": "markdown",
      "id": "afe36e40",
      "metadata": {
        "papermill": {
          "duration": 0.022663,
          "end_time": "2021-07-22T22:03:20.128694",
          "exception": false,
          "start_time": "2021-07-22T22:03:20.106031",
          "status": "completed"
        },
        "tags": [],
        "id": "afe36e40"
      },
      "source": [
        "***An average of 38% of employees are comfortable discussing mental health with their direct supervisor. Employee comfort in 2019 has decreased by 1% when compared to levels in 2014.***"
      ]
    }
  ],
  "metadata": {
    "kernelspec": {
      "display_name": "Python 3",
      "language": "python",
      "name": "python3"
    },
    "language_info": {
      "codemirror_mode": {
        "name": "ipython",
        "version": 3
      },
      "file_extension": ".py",
      "mimetype": "text/x-python",
      "name": "python",
      "nbconvert_exporter": "python",
      "pygments_lexer": "ipython3",
      "version": "3.7.10"
    },
    "papermill": {
      "default_parameters": {},
      "duration": 11.790697,
      "end_time": "2021-07-22T22:03:21.852807",
      "environment_variables": {},
      "exception": null,
      "input_path": "__notebook__.ipynb",
      "output_path": "__notebook__.ipynb",
      "parameters": {},
      "start_time": "2021-07-22T22:03:10.062110",
      "version": "2.3.3"
    },
    "colab": {
      "name": "the-state-of-mental-health-support-in-tech.ipynb",
      "provenance": [],
      "collapsed_sections": []
    }
  },
  "nbformat": 4,
  "nbformat_minor": 5
}